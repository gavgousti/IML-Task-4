{
 "metadata": {
  "language_info": {
   "codemirror_mode": {
    "name": "ipython",
    "version": 3
   },
   "file_extension": ".py",
   "mimetype": "text/x-python",
   "name": "python",
   "nbconvert_exporter": "python",
   "pygments_lexer": "ipython3",
   "version": "3.8.5"
  },
  "orig_nbformat": 2,
  "kernelspec": {
   "name": "python385jvsc74a57bd0bd70d12075460dc5003d55ac73cd12eeed8cdad08c4772249916966aa07ef062",
   "display_name": "Python 3.8.5 64-bit ('base': conda)"
  }
 },
 "nbformat": 4,
 "nbformat_minor": 2,
 "cells": [
  {
   "cell_type": "code",
   "execution_count": 1,
   "metadata": {},
   "outputs": [],
   "source": [
    "import numpy as np\n",
    "import cv2              # pip install opencv-python     or      conda install -c conda-forge opencv\n",
    "import os\n",
    "import matplotlib.pyplot as plt\n",
    "from PIL import Image\n",
    "from tensorflow.keras.applications.vgg16 import VGG16\n",
    "import tensorflow as tf\n",
    "from tensorflow import keras\n",
    "from tensorflow.keras import layers"
   ]
  },
  {
   "cell_type": "code",
   "execution_count": 2,
   "metadata": {},
   "outputs": [],
   "source": [
    "def crop(img):\n",
    "    w, l = img.shape[0:2]\n",
    "    if (w - 224) % 2 == 0:\n",
    "        up = (w - 224)//2 + 224\n",
    "        down = (w - 224)//2 \n",
    "    else:\n",
    "        up = (w+1 - 224)//2 + 224\n",
    "        down = (w+1 - 224)//2 \n",
    "    if (l - 224) % 2 == 0:\n",
    "        right = (l - 224)//2 + 224\n",
    "        left = (l - 224)//2 \n",
    "    else:\n",
    "        right = (l + 1 - 224)//2 + 224\n",
    "        left = (l + 1 - 224)//2 \n",
    "    img = img[down:up, left:right, :]\n",
    "    return img\n"
   ]
  },
  {
   "cell_type": "code",
   "execution_count": 3,
   "metadata": {},
   "outputs": [],
   "source": [
    "def prep(folder, model):\n",
    "    X = np.zeros((10000, 1000)) ; i = 0\n",
    "    for filename in os.listdir(folder):\n",
    "        img = cv2.imread(os.path.join(folder,filename))\n",
    "        if img is not None:             \n",
    "            img = crop(img)\n",
    "            img = np.expand_dims(img, axis = 0)\n",
    "            feature = model.predict(img)\n",
    "            #feature = layers.Dense(20, activation = \"linear\", kernel_initializer='ones')(feature)\n",
    "            X[i,:] = np.reshape(feature, 1000)\n",
    "            i += 1\n",
    "            if i % 500 ==0:\n",
    "                print('{:3.0f}%'.format(i/100))\n",
    "    return X  "
   ]
  },
  {
   "cell_type": "code",
   "execution_count": 4,
   "metadata": {},
   "outputs": [],
   "source": [
    "folder = r'C:\\Users\\41778\\Desktop\\task4\\food'\n",
    "model = VGG16()"
   ]
  },
  {
   "cell_type": "code",
   "execution_count": 5,
   "metadata": {},
   "outputs": [
    {
     "output_type": "stream",
     "name": "stdout",
     "text": [
      "  5%\n",
      " 10%\n",
      " 15%\n",
      " 20%\n",
      " 25%\n",
      " 30%\n",
      " 35%\n",
      " 40%\n",
      " 45%\n",
      " 50%\n",
      " 55%\n",
      " 60%\n",
      " 65%\n",
      " 70%\n",
      " 75%\n",
      " 80%\n",
      " 85%\n",
      " 90%\n",
      " 95%\n",
      "100%\n"
     ]
    }
   ],
   "source": [
    "feat = prep(folder, model)"
   ]
  },
  {
   "cell_type": "code",
   "execution_count": 6,
   "metadata": {},
   "outputs": [],
   "source": [
    "import pandas as pd"
   ]
  },
  {
   "cell_type": "code",
   "execution_count": 7,
   "metadata": {},
   "outputs": [],
   "source": [
    "pd.DataFrame(feat).to_csv(\"feat2.csv\")"
   ]
  }
 ]
}