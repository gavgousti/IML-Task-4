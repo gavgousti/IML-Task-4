{
 "metadata": {
  "language_info": {
   "codemirror_mode": {
    "name": "ipython",
    "version": 3
   },
   "file_extension": ".py",
   "mimetype": "text/x-python",
   "name": "python",
   "nbconvert_exporter": "python",
   "pygments_lexer": "ipython3",
   "version": "3.8.5"
  },
  "orig_nbformat": 2,
  "kernelspec": {
   "name": "python385jvsc74a57bd0bd70d12075460dc5003d55ac73cd12eeed8cdad08c4772249916966aa07ef062",
   "display_name": "Python 3.8.5 64-bit ('base': conda)"
  }
 },
 "nbformat": 4,
 "nbformat_minor": 2,
 "cells": [
  {
   "cell_type": "code",
   "execution_count": 1,
   "metadata": {},
   "outputs": [],
   "source": [
    "import numpy as np\n"
   ]
  },
  {
   "cell_type": "code",
   "execution_count": 2,
   "metadata": {},
   "outputs": [],
   "source": [
    "import cv2\n",
    "import os\n",
    "\n",
    "def load_images_from_folder(folder):\n",
    "    images = []\n",
    "    for filename in os.listdir(folder):\n",
    "        img = cv2.imread(os.path.join(folder,filename))\n",
    "        if img is not None:\n",
    "            images.append(img)\n",
    "    return images"
   ]
  },
  {
   "cell_type": "code",
   "execution_count": 24,
   "metadata": {},
   "outputs": [],
   "source": [
    "def pad(images):\n",
    "    max_width = 0 ; max_length = 0 \n",
    "    for im in images:\n",
    "        w, l = im.shape[0:2]\n",
    "        if w > max_width:\n",
    "            max_width = w\n",
    "        if l > max_length:\n",
    "            max_length = l\n",
    "    for i in range(len(images)):\n",
    "        if i % 200 ==0:\n",
    "            print('{:3.0f}%'.format(100*i/len(images)))\n",
    "        w, l = images[i].shape[0:2]\n",
    "        if (max_width - w) % 2 == 0:\n",
    "            up = (max_width - w)//2\n",
    "            down = (max_width - w)//2\n",
    "        else:\n",
    "            up = (max_width+1 - w)//2\n",
    "            down = up - 1\n",
    "        if (max_length - l) % 2 == 0:\n",
    "            right = (max_length - l)//2\n",
    "            left = (max_length - l)//2\n",
    "        else:\n",
    "            right = (max_length+1 - l)//2\n",
    "            left = right - 1\n",
    "        images[i] = cv2.copyMakeBorder(images[i], up, down, left, right, cv2.BORDER_CONSTANT)\n",
    "    print(20*'='+'\\n    PADDING DONE\\n'+20*'=')\n",
    "    return images        \n"
   ]
  },
  {
   "cell_type": "code",
   "execution_count": 3,
   "metadata": {},
   "outputs": [],
   "source": [
    "images = load_images_from_folder(r'C:\\Users\\41778\\Desktop\\task4\\food')\n",
    "images = pad(images)"
   ]
  },
  {
   "cell_type": "code",
   "execution_count": 28,
   "metadata": {},
   "outputs": [
    {
     "output_type": "stream",
     "name": "stdout",
     "text": [
      "====================\n    PADDING DONE\n====================\n"
     ]
    }
   ],
   "source": []
  },
  {
   "cell_type": "code",
   "execution_count": null,
   "metadata": {},
   "outputs": [],
   "source": []
  }
 ]
}